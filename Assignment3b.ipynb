{
 "cells": [
  {
   "cell_type": "code",
   "execution_count": null,
   "metadata": {},
   "outputs": [],
   "source": [
    "import math\n",
    "x_o = 1\n",
    "y_o =2\n",
    "eta = 0.01\n",
    "eps = 0.000001\n",
    "del_x = 1\n",
    "del_y=1\n",
    "max_iters = 1000\n",
    "iters = 0\n",
    "def gradient(x,y):\n",
    "    return (6*x_o,-5*math.exp(-y_o))\n",
    "while max(abs(del_x),abs(del_y)) > eps and (iters < max_iters):\n",
    "    gra_x,gra_y = gradient(x_o,y_o)\n",
    "    del_x=-eta*gra_x\n",
    "    del_y=-eta*gra_y\n",
    "    iters+=1\n",
    "    x_o+= del_x\n",
    "    y_o += del_y\n",
    "    print(\"Iterations\",iters,\"\\n x value is\",x_o,\"\\n y value is\",y_o)\n",
    "print(\"The local minimum occurs at\",x_o,y_o)\n"
   ]
  }
 ],
 "metadata": {
  "kernelspec": {
   "display_name": "Python 3",
   "language": "python",
   "name": "python3"
  },
  "language_info": {
   "codemirror_mode": {
    "name": "ipython",
    "version": 3
   },
   "file_extension": ".py",
   "mimetype": "text/x-python",
   "name": "python",
   "nbconvert_exporter": "python",
   "pygments_lexer": "ipython3",
   "version": "3.7.6"
  }
 },
 "nbformat": 4,
 "nbformat_minor": 4
}
