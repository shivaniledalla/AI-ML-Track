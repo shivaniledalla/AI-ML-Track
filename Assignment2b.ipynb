{
 "cells": [
  {
   "cell_type": "code",
   "execution_count": 1,
   "metadata": {},
   "outputs": [
    {
     "name": "stdout",
     "output_type": "stream",
     "text": [
      "Iterations 1 \n",
      " x value is -37.6\n",
      "Iterations 2 \n",
      " x value is 191531.99360000005\n",
      "Iterations 3 \n",
      " x value is -2.529452266276448e+16\n",
      "Iterations 4 \n",
      " x value is 5.826154071799894e+49\n",
      "Iterations 5 \n",
      " x value is -7.119482005208375e+149\n",
      "Iterations 6 \n",
      " x value is inf\n",
      "Iterations 7 \n",
      " x value is nan\n",
      "Iterations 8 \n",
      " x value is nan\n",
      "The local minimum occurs at nan\n"
     ]
    }
   ],
   "source": [
    "x_o = 2\n",
    "eta = 0.9\n",
    "eps = 0.000001\n",
    "del_x = 1\n",
    "max_iters = 10000\n",
    "iters = 0\n",
    "def deriv(x):\n",
    "    x_deriv = 4*(x)*(x)*(x) + 6*(x)\n",
    "    return x_deriv\n",
    "while abs(del_x) > eps and iters < max_iters:\n",
    "    prev_x = x_o\n",
    "    del_x=-eta*deriv(prev_x)\n",
    "    x_o = x_o + del_x\n",
    "    iters = iters+1\n",
    "    print(\"Iterations\",iters,\"\\n x value is\",x_o)\n",
    "print(\"The local minimum occurs at\",x_o)"
   ]
  }
 ],
 "metadata": {
  "kernelspec": {
   "display_name": "Python 3",
   "language": "python",
   "name": "python3"
  },
  "language_info": {
   "codemirror_mode": {
    "name": "ipython",
    "version": 3
   },
   "file_extension": ".py",
   "mimetype": "text/x-python",
   "name": "python",
   "nbconvert_exporter": "python",
   "pygments_lexer": "ipython3",
   "version": "3.7.6"
  }
 },
 "nbformat": 4,
 "nbformat_minor": 4
}
