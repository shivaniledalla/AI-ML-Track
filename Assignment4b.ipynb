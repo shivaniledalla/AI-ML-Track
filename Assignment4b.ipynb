{
 "cells": [
  {
   "cell_type": "code",
   "execution_count": 8,
   "metadata": {},
   "outputs": [],
   "source": [
    "import pandas as pd\n",
    "data = pd.read_csv(\"C:\\\\Users\\\\shiva\\\\Desktop\\\\groundwatersurvey.csv\")\n"
   ]
  },
  {
   "cell_type": "code",
   "execution_count": 9,
   "metadata": {},
   "outputs": [
    {
     "data": {
      "text/html": [
       "<div>\n",
       "<style scoped>\n",
       "    .dataframe tbody tr th:only-of-type {\n",
       "        vertical-align: middle;\n",
       "    }\n",
       "\n",
       "    .dataframe tbody tr th {\n",
       "        vertical-align: top;\n",
       "    }\n",
       "\n",
       "    .dataframe thead th {\n",
       "        text-align: right;\n",
       "    }\n",
       "</style>\n",
       "<table border=\"1\" class=\"dataframe\">\n",
       "  <thead>\n",
       "    <tr style=\"text-align: right;\">\n",
       "      <th></th>\n",
       "      <th>X</th>\n",
       "      <th>Y</th>\n",
       "    </tr>\n",
       "  </thead>\n",
       "  <tbody>\n",
       "    <tr>\n",
       "      <th>0</th>\n",
       "      <td>7.6</td>\n",
       "      <td>157</td>\n",
       "    </tr>\n",
       "    <tr>\n",
       "      <th>1</th>\n",
       "      <td>7.1</td>\n",
       "      <td>174</td>\n",
       "    </tr>\n",
       "    <tr>\n",
       "      <th>2</th>\n",
       "      <td>8.2</td>\n",
       "      <td>175</td>\n",
       "    </tr>\n",
       "    <tr>\n",
       "      <th>3</th>\n",
       "      <td>7.5</td>\n",
       "      <td>188</td>\n",
       "    </tr>\n",
       "    <tr>\n",
       "      <th>4</th>\n",
       "      <td>7.4</td>\n",
       "      <td>171</td>\n",
       "    </tr>\n",
       "    <tr>\n",
       "      <th>5</th>\n",
       "      <td>7.8</td>\n",
       "      <td>143</td>\n",
       "    </tr>\n",
       "    <tr>\n",
       "      <th>6</th>\n",
       "      <td>7.3</td>\n",
       "      <td>217</td>\n",
       "    </tr>\n",
       "    <tr>\n",
       "      <th>7</th>\n",
       "      <td>8.0</td>\n",
       "      <td>190</td>\n",
       "    </tr>\n",
       "    <tr>\n",
       "      <th>8</th>\n",
       "      <td>7.1</td>\n",
       "      <td>142</td>\n",
       "    </tr>\n",
       "    <tr>\n",
       "      <th>9</th>\n",
       "      <td>7.5</td>\n",
       "      <td>190</td>\n",
       "    </tr>\n",
       "    <tr>\n",
       "      <th>10</th>\n",
       "      <td>8.1</td>\n",
       "      <td>215</td>\n",
       "    </tr>\n",
       "    <tr>\n",
       "      <th>11</th>\n",
       "      <td>7.0</td>\n",
       "      <td>199</td>\n",
       "    </tr>\n",
       "    <tr>\n",
       "      <th>12</th>\n",
       "      <td>7.3</td>\n",
       "      <td>262</td>\n",
       "    </tr>\n",
       "    <tr>\n",
       "      <th>13</th>\n",
       "      <td>7.8</td>\n",
       "      <td>105</td>\n",
       "    </tr>\n",
       "    <tr>\n",
       "      <th>14</th>\n",
       "      <td>7.3</td>\n",
       "      <td>121</td>\n",
       "    </tr>\n",
       "    <tr>\n",
       "      <th>15</th>\n",
       "      <td>8.0</td>\n",
       "      <td>81</td>\n",
       "    </tr>\n",
       "    <tr>\n",
       "      <th>16</th>\n",
       "      <td>8.5</td>\n",
       "      <td>82</td>\n",
       "    </tr>\n",
       "    <tr>\n",
       "      <th>17</th>\n",
       "      <td>7.1</td>\n",
       "      <td>210</td>\n",
       "    </tr>\n",
       "    <tr>\n",
       "      <th>18</th>\n",
       "      <td>8.2</td>\n",
       "      <td>202</td>\n",
       "    </tr>\n",
       "    <tr>\n",
       "      <th>19</th>\n",
       "      <td>7.9</td>\n",
       "      <td>155</td>\n",
       "    </tr>\n",
       "    <tr>\n",
       "      <th>20</th>\n",
       "      <td>7.6</td>\n",
       "      <td>157</td>\n",
       "    </tr>\n",
       "    <tr>\n",
       "      <th>21</th>\n",
       "      <td>8.8</td>\n",
       "      <td>147</td>\n",
       "    </tr>\n",
       "    <tr>\n",
       "      <th>22</th>\n",
       "      <td>7.2</td>\n",
       "      <td>133</td>\n",
       "    </tr>\n",
       "    <tr>\n",
       "      <th>23</th>\n",
       "      <td>7.9</td>\n",
       "      <td>53</td>\n",
       "    </tr>\n",
       "    <tr>\n",
       "      <th>24</th>\n",
       "      <td>8.1</td>\n",
       "      <td>56</td>\n",
       "    </tr>\n",
       "    <tr>\n",
       "      <th>25</th>\n",
       "      <td>7.7</td>\n",
       "      <td>113</td>\n",
       "    </tr>\n",
       "    <tr>\n",
       "      <th>26</th>\n",
       "      <td>8.4</td>\n",
       "      <td>35</td>\n",
       "    </tr>\n",
       "    <tr>\n",
       "      <th>27</th>\n",
       "      <td>7.4</td>\n",
       "      <td>125</td>\n",
       "    </tr>\n",
       "    <tr>\n",
       "      <th>28</th>\n",
       "      <td>7.3</td>\n",
       "      <td>76</td>\n",
       "    </tr>\n",
       "    <tr>\n",
       "      <th>29</th>\n",
       "      <td>8.5</td>\n",
       "      <td>48</td>\n",
       "    </tr>\n",
       "    <tr>\n",
       "      <th>30</th>\n",
       "      <td>7.8</td>\n",
       "      <td>147</td>\n",
       "    </tr>\n",
       "    <tr>\n",
       "      <th>31</th>\n",
       "      <td>6.7</td>\n",
       "      <td>117</td>\n",
       "    </tr>\n",
       "    <tr>\n",
       "      <th>32</th>\n",
       "      <td>7.1</td>\n",
       "      <td>182</td>\n",
       "    </tr>\n",
       "    <tr>\n",
       "      <th>33</th>\n",
       "      <td>7.3</td>\n",
       "      <td>87</td>\n",
       "    </tr>\n",
       "  </tbody>\n",
       "</table>\n",
       "</div>"
      ],
      "text/plain": [
       "      X    Y\n",
       "0   7.6  157\n",
       "1   7.1  174\n",
       "2   8.2  175\n",
       "3   7.5  188\n",
       "4   7.4  171\n",
       "5   7.8  143\n",
       "6   7.3  217\n",
       "7   8.0  190\n",
       "8   7.1  142\n",
       "9   7.5  190\n",
       "10  8.1  215\n",
       "11  7.0  199\n",
       "12  7.3  262\n",
       "13  7.8  105\n",
       "14  7.3  121\n",
       "15  8.0   81\n",
       "16  8.5   82\n",
       "17  7.1  210\n",
       "18  8.2  202\n",
       "19  7.9  155\n",
       "20  7.6  157\n",
       "21  8.8  147\n",
       "22  7.2  133\n",
       "23  7.9   53\n",
       "24  8.1   56\n",
       "25  7.7  113\n",
       "26  8.4   35\n",
       "27  7.4  125\n",
       "28  7.3   76\n",
       "29  8.5   48\n",
       "30  7.8  147\n",
       "31  6.7  117\n",
       "32  7.1  182\n",
       "33  7.3   87"
      ]
     },
     "execution_count": 9,
     "metadata": {},
     "output_type": "execute_result"
    }
   ],
   "source": [
    "data.head(34)"
   ]
  },
  {
   "cell_type": "code",
   "execution_count": 10,
   "metadata": {},
   "outputs": [
    {
     "data": {
      "text/plain": [
       "X    0\n",
       "Y    0\n",
       "dtype: int64"
      ]
     },
     "execution_count": 10,
     "metadata": {},
     "output_type": "execute_result"
    }
   ],
   "source": [
    "data.isnull().sum()"
   ]
  },
  {
   "cell_type": "code",
   "execution_count": 12,
   "metadata": {},
   "outputs": [],
   "source": [
    "# Import libraries \n",
    "import matplotlib.pyplot as plt \n",
    "import numpy as np"
   ]
  },
  {
   "cell_type": "code",
   "execution_count": 13,
   "metadata": {},
   "outputs": [
    {
     "data": {
      "text/plain": [
       "{'whiskers': [<matplotlib.lines.Line2D at 0x1654cfc0688>,\n",
       "  <matplotlib.lines.Line2D at 0x1654cfc0c88>,\n",
       "  <matplotlib.lines.Line2D at 0x1654cfdac88>,\n",
       "  <matplotlib.lines.Line2D at 0x1654cfdad48>,\n",
       "  <matplotlib.lines.Line2D at 0x1654cfe7fc8>,\n",
       "  <matplotlib.lines.Line2D at 0x1654cfede48>,\n",
       "  <matplotlib.lines.Line2D at 0x1654cff7f88>,\n",
       "  <matplotlib.lines.Line2D at 0x1654cff2648>,\n",
       "  <matplotlib.lines.Line2D at 0x1654d00cf08>,\n",
       "  <matplotlib.lines.Line2D at 0x1654d0058c8>,\n",
       "  <matplotlib.lines.Line2D at 0x1654d01bb08>,\n",
       "  <matplotlib.lines.Line2D at 0x1654d01b7c8>,\n",
       "  <matplotlib.lines.Line2D at 0x1654d030b48>,\n",
       "  <matplotlib.lines.Line2D at 0x1654d02cd88>,\n",
       "  <matplotlib.lines.Line2D at 0x1654d042f88>,\n",
       "  <matplotlib.lines.Line2D at 0x1654d042308>,\n",
       "  <matplotlib.lines.Line2D at 0x1654d00cec8>,\n",
       "  <matplotlib.lines.Line2D at 0x1654d053848>,\n",
       "  <matplotlib.lines.Line2D at 0x1654d06b948>,\n",
       "  <matplotlib.lines.Line2D at 0x1654d06bec8>,\n",
       "  <matplotlib.lines.Line2D at 0x1654d079f88>,\n",
       "  <matplotlib.lines.Line2D at 0x1654d079208>,\n",
       "  <matplotlib.lines.Line2D at 0x1654d08aa88>,\n",
       "  <matplotlib.lines.Line2D at 0x1654d08fd08>,\n",
       "  <matplotlib.lines.Line2D at 0x1654d09bf88>,\n",
       "  <matplotlib.lines.Line2D at 0x1654d0a0e88>,\n",
       "  <matplotlib.lines.Line2D at 0x1654d0b2f48>,\n",
       "  <matplotlib.lines.Line2D at 0x1654d0b21c8>,\n",
       "  <matplotlib.lines.Line2D at 0x1654d0c0a48>,\n",
       "  <matplotlib.lines.Line2D at 0x1654d0c0708>,\n",
       "  <matplotlib.lines.Line2D at 0x1654d0d2f88>,\n",
       "  <matplotlib.lines.Line2D at 0x1654d0d7e88>,\n",
       "  <matplotlib.lines.Line2D at 0x1654d0e5f48>,\n",
       "  <matplotlib.lines.Line2D at 0x1654d0e51c8>,\n",
       "  <matplotlib.lines.Line2D at 0x1654d0f8a48>,\n",
       "  <matplotlib.lines.Line2D at 0x1654d0f8708>,\n",
       "  <matplotlib.lines.Line2D at 0x1654d107f88>,\n",
       "  <matplotlib.lines.Line2D at 0x1654d10ce88>,\n",
       "  <matplotlib.lines.Line2D at 0x1654d11cf48>,\n",
       "  <matplotlib.lines.Line2D at 0x1654d11c1c8>,\n",
       "  <matplotlib.lines.Line2D at 0x1654d12da48>,\n",
       "  <matplotlib.lines.Line2D at 0x1654d12d708>,\n",
       "  <matplotlib.lines.Line2D at 0x1654d13ef88>,\n",
       "  <matplotlib.lines.Line2D at 0x1654d143e88>,\n",
       "  <matplotlib.lines.Line2D at 0x1654d154f48>,\n",
       "  <matplotlib.lines.Line2D at 0x1654d1541c8>,\n",
       "  <matplotlib.lines.Line2D at 0x1654d164a48>,\n",
       "  <matplotlib.lines.Line2D at 0x1654d164708>,\n",
       "  <matplotlib.lines.Line2D at 0x1654d173f88>,\n",
       "  <matplotlib.lines.Line2D at 0x1654d179e88>,\n",
       "  <matplotlib.lines.Line2D at 0x1654d18bf48>,\n",
       "  <matplotlib.lines.Line2D at 0x1654d18b1c8>,\n",
       "  <matplotlib.lines.Line2D at 0x1654d19ba48>,\n",
       "  <matplotlib.lines.Line2D at 0x1654d19b708>,\n",
       "  <matplotlib.lines.Line2D at 0x1654d1abf88>,\n",
       "  <matplotlib.lines.Line2D at 0x1654d1b2e88>,\n",
       "  <matplotlib.lines.Line2D at 0x1654d1bff48>,\n",
       "  <matplotlib.lines.Line2D at 0x1654d1bf1c8>,\n",
       "  <matplotlib.lines.Line2D at 0x1654d1d2a48>,\n",
       "  <matplotlib.lines.Line2D at 0x1654d1d2708>,\n",
       "  <matplotlib.lines.Line2D at 0x1654d1e3f88>,\n",
       "  <matplotlib.lines.Line2D at 0x1654d1e7e88>,\n",
       "  <matplotlib.lines.Line2D at 0x1654d1f7f48>,\n",
       "  <matplotlib.lines.Line2D at 0x1654d1fd688>,\n",
       "  <matplotlib.lines.Line2D at 0x1654d208a48>,\n",
       "  <matplotlib.lines.Line2D at 0x1654d208708>,\n",
       "  <matplotlib.lines.Line2D at 0x1654d219f88>,\n",
       "  <matplotlib.lines.Line2D at 0x1654d21ee88>],\n",
       " 'caps': [<matplotlib.lines.Line2D at 0x1654cfc0d88>,\n",
       "  <matplotlib.lines.Line2D at 0x1654cfc0e48>,\n",
       "  <matplotlib.lines.Line2D at 0x1654cfdfd88>,\n",
       "  <matplotlib.lines.Line2D at 0x1654cfdfe48>,\n",
       "  <matplotlib.lines.Line2D at 0x1654cfed4c8>,\n",
       "  <matplotlib.lines.Line2D at 0x1654cff2f88>,\n",
       "  <matplotlib.lines.Line2D at 0x1654cffbc08>,\n",
       "  <matplotlib.lines.Line2D at 0x1654d000208>,\n",
       "  <matplotlib.lines.Line2D at 0x1654d011788>,\n",
       "  <matplotlib.lines.Line2D at 0x1654cff2a08>,\n",
       "  <matplotlib.lines.Line2D at 0x1654d022f08>,\n",
       "  <matplotlib.lines.Line2D at 0x1654d022748>,\n",
       "  <matplotlib.lines.Line2D at 0x1654d030c88>,\n",
       "  <matplotlib.lines.Line2D at 0x1654d038288>,\n",
       "  <matplotlib.lines.Line2D at 0x1654d0487c8>,\n",
       "  <matplotlib.lines.Line2D at 0x1654d048208>,\n",
       "  <matplotlib.lines.Line2D at 0x1654d057e88>,\n",
       "  <matplotlib.lines.Line2D at 0x1654d057708>,\n",
       "  <matplotlib.lines.Line2D at 0x1654d070188>,\n",
       "  <matplotlib.lines.Line2D at 0x1654d06bb88>,\n",
       "  <matplotlib.lines.Line2D at 0x1654d07f6c8>,\n",
       "  <matplotlib.lines.Line2D at 0x1654d07f108>,\n",
       "  <matplotlib.lines.Line2D at 0x1654d085d88>,\n",
       "  <matplotlib.lines.Line2D at 0x1654d0963c8>,\n",
       "  <matplotlib.lines.Line2D at 0x1654d0a0b48>,\n",
       "  <matplotlib.lines.Line2D at 0x1654d0a6148>,\n",
       "  <matplotlib.lines.Line2D at 0x1654d0b6688>,\n",
       "  <matplotlib.lines.Line2D at 0x1654d0b60c8>,\n",
       "  <matplotlib.lines.Line2D at 0x1654d0c6dc8>,\n",
       "  <matplotlib.lines.Line2D at 0x1654d0c6608>,\n",
       "  <matplotlib.lines.Line2D at 0x1654d0dd148>,\n",
       "  <matplotlib.lines.Line2D at 0x1654d0d7b48>,\n",
       "  <matplotlib.lines.Line2D at 0x1654d0ec688>,\n",
       "  <matplotlib.lines.Line2D at 0x1654d0ec0c8>,\n",
       "  <matplotlib.lines.Line2D at 0x1654d0fcdc8>,\n",
       "  <matplotlib.lines.Line2D at 0x1654d0fc608>,\n",
       "  <matplotlib.lines.Line2D at 0x1654d113148>,\n",
       "  <matplotlib.lines.Line2D at 0x1654d10cb48>,\n",
       "  <matplotlib.lines.Line2D at 0x1654d124688>,\n",
       "  <matplotlib.lines.Line2D at 0x1654d1240c8>,\n",
       "  <matplotlib.lines.Line2D at 0x1654d132dc8>,\n",
       "  <matplotlib.lines.Line2D at 0x1654d132608>,\n",
       "  <matplotlib.lines.Line2D at 0x1654d148148>,\n",
       "  <matplotlib.lines.Line2D at 0x1654d143b48>,\n",
       "  <matplotlib.lines.Line2D at 0x1654d159688>,\n",
       "  <matplotlib.lines.Line2D at 0x1654d1590c8>,\n",
       "  <matplotlib.lines.Line2D at 0x1654d169dc8>,\n",
       "  <matplotlib.lines.Line2D at 0x1654d169608>,\n",
       "  <matplotlib.lines.Line2D at 0x1654d180148>,\n",
       "  <matplotlib.lines.Line2D at 0x1654d179b48>,\n",
       "  <matplotlib.lines.Line2D at 0x1654d18f688>,\n",
       "  <matplotlib.lines.Line2D at 0x1654d18f0c8>,\n",
       "  <matplotlib.lines.Line2D at 0x1654d19fdc8>,\n",
       "  <matplotlib.lines.Line2D at 0x1654d19f608>,\n",
       "  <matplotlib.lines.Line2D at 0x1654d1b6148>,\n",
       "  <matplotlib.lines.Line2D at 0x1654d1b2b48>,\n",
       "  <matplotlib.lines.Line2D at 0x1654d1c6688>,\n",
       "  <matplotlib.lines.Line2D at 0x1654d1c60c8>,\n",
       "  <matplotlib.lines.Line2D at 0x1654d1d6dc8>,\n",
       "  <matplotlib.lines.Line2D at 0x1654d1d6608>,\n",
       "  <matplotlib.lines.Line2D at 0x1654d1ed148>,\n",
       "  <matplotlib.lines.Line2D at 0x1654d1e7b48>,\n",
       "  <matplotlib.lines.Line2D at 0x1654d1f3808>,\n",
       "  <matplotlib.lines.Line2D at 0x1654d1fde08>,\n",
       "  <matplotlib.lines.Line2D at 0x1654d20edc8>,\n",
       "  <matplotlib.lines.Line2D at 0x1654d20e608>,\n",
       "  <matplotlib.lines.Line2D at 0x1654d225148>,\n",
       "  <matplotlib.lines.Line2D at 0x1654d21eb48>],\n",
       " 'boxes': [<matplotlib.lines.Line2D at 0x16548a73cc8>,\n",
       "  <matplotlib.lines.Line2D at 0x1654cfd4bc8>,\n",
       "  <matplotlib.lines.Line2D at 0x1654cfd4ac8>,\n",
       "  <matplotlib.lines.Line2D at 0x1654cfe7748>,\n",
       "  <matplotlib.lines.Line2D at 0x1654d00c7c8>,\n",
       "  <matplotlib.lines.Line2D at 0x1654d00c8c8>,\n",
       "  <matplotlib.lines.Line2D at 0x1654d01bdc8>,\n",
       "  <matplotlib.lines.Line2D at 0x1654d030408>,\n",
       "  <matplotlib.lines.Line2D at 0x1654cffb348>,\n",
       "  <matplotlib.lines.Line2D at 0x1654d01be88>,\n",
       "  <matplotlib.lines.Line2D at 0x1654d06b208>,\n",
       "  <matplotlib.lines.Line2D at 0x1654d079848>,\n",
       "  <matplotlib.lines.Line2D at 0x1654d08ad88>,\n",
       "  <matplotlib.lines.Line2D at 0x1654d0a02c8>,\n",
       "  <matplotlib.lines.Line2D at 0x1654d0b2808>,\n",
       "  <matplotlib.lines.Line2D at 0x1654d0c0d48>,\n",
       "  <matplotlib.lines.Line2D at 0x1654d0d72c8>,\n",
       "  <matplotlib.lines.Line2D at 0x1654d0e5808>,\n",
       "  <matplotlib.lines.Line2D at 0x1654d0f8d48>,\n",
       "  <matplotlib.lines.Line2D at 0x1654d10c2c8>,\n",
       "  <matplotlib.lines.Line2D at 0x1654d11c808>,\n",
       "  <matplotlib.lines.Line2D at 0x1654d12dd48>,\n",
       "  <matplotlib.lines.Line2D at 0x1654d1432c8>,\n",
       "  <matplotlib.lines.Line2D at 0x1654d154808>,\n",
       "  <matplotlib.lines.Line2D at 0x1654d164d48>,\n",
       "  <matplotlib.lines.Line2D at 0x1654d1792c8>,\n",
       "  <matplotlib.lines.Line2D at 0x1654d18b808>,\n",
       "  <matplotlib.lines.Line2D at 0x1654d19bd48>,\n",
       "  <matplotlib.lines.Line2D at 0x1654d1b22c8>,\n",
       "  <matplotlib.lines.Line2D at 0x1654d1bf808>,\n",
       "  <matplotlib.lines.Line2D at 0x1654d1d2d48>,\n",
       "  <matplotlib.lines.Line2D at 0x1654d1e72c8>,\n",
       "  <matplotlib.lines.Line2D at 0x1654d1f7808>,\n",
       "  <matplotlib.lines.Line2D at 0x1654d208d48>],\n",
       " 'medians': [<matplotlib.lines.Line2D at 0x1654cfcea08>,\n",
       "  <matplotlib.lines.Line2D at 0x1654cfe2e48>,\n",
       "  <matplotlib.lines.Line2D at 0x1654cff2e88>,\n",
       "  <matplotlib.lines.Line2D at 0x1654d005148>,\n",
       "  <matplotlib.lines.Line2D at 0x1654d011f48>,\n",
       "  <matplotlib.lines.Line2D at 0x1654d027e48>,\n",
       "  <matplotlib.lines.Line2D at 0x1654d03d1c8>,\n",
       "  <matplotlib.lines.Line2D at 0x1654d048f48>,\n",
       "  <matplotlib.lines.Line2D at 0x1654d05fdc8>,\n",
       "  <matplotlib.lines.Line2D at 0x1654d070908>,\n",
       "  <matplotlib.lines.Line2D at 0x1654d07fe48>,\n",
       "  <matplotlib.lines.Line2D at 0x1654d096d08>,\n",
       "  <matplotlib.lines.Line2D at 0x1654d0ab088>,\n",
       "  <matplotlib.lines.Line2D at 0x1654d0b6e08>,\n",
       "  <matplotlib.lines.Line2D at 0x1654d0cdd08>,\n",
       "  <matplotlib.lines.Line2D at 0x1654d0dd8c8>,\n",
       "  <matplotlib.lines.Line2D at 0x1654d0ece08>,\n",
       "  <matplotlib.lines.Line2D at 0x1654d101d08>,\n",
       "  <matplotlib.lines.Line2D at 0x1654d1138c8>,\n",
       "  <matplotlib.lines.Line2D at 0x1654d124e08>,\n",
       "  <matplotlib.lines.Line2D at 0x1654d139d08>,\n",
       "  <matplotlib.lines.Line2D at 0x1654d1488c8>,\n",
       "  <matplotlib.lines.Line2D at 0x1654d159e08>,\n",
       "  <matplotlib.lines.Line2D at 0x1654d16ed08>,\n",
       "  <matplotlib.lines.Line2D at 0x1654d1808c8>,\n",
       "  <matplotlib.lines.Line2D at 0x1654d18fe08>,\n",
       "  <matplotlib.lines.Line2D at 0x1654d1a6d08>,\n",
       "  <matplotlib.lines.Line2D at 0x1654d1b68c8>,\n",
       "  <matplotlib.lines.Line2D at 0x1654d1c6e08>,\n",
       "  <matplotlib.lines.Line2D at 0x1654d1ded08>,\n",
       "  <matplotlib.lines.Line2D at 0x1654d1ed8c8>,\n",
       "  <matplotlib.lines.Line2D at 0x1654d1fd888>,\n",
       "  <matplotlib.lines.Line2D at 0x1654d214d08>,\n",
       "  <matplotlib.lines.Line2D at 0x1654d2258c8>],\n",
       " 'fliers': [<matplotlib.lines.Line2D at 0x1654cfd4a08>,\n",
       "  <matplotlib.lines.Line2D at 0x1654cfe2f08>,\n",
       "  <matplotlib.lines.Line2D at 0x1654cff7b08>,\n",
       "  <matplotlib.lines.Line2D at 0x1654d000b88>,\n",
       "  <matplotlib.lines.Line2D at 0x1654d01bc88>,\n",
       "  <matplotlib.lines.Line2D at 0x1654d027c48>,\n",
       "  <matplotlib.lines.Line2D at 0x1654d03db48>,\n",
       "  <matplotlib.lines.Line2D at 0x1654d04e708>,\n",
       "  <matplotlib.lines.Line2D at 0x1654d0186c8>,\n",
       "  <matplotlib.lines.Line2D at 0x1654d0750c8>,\n",
       "  <matplotlib.lines.Line2D at 0x1654d085f88>,\n",
       "  <matplotlib.lines.Line2D at 0x1654d096b08>,\n",
       "  <matplotlib.lines.Line2D at 0x1654d0a6ac8>,\n",
       "  <matplotlib.lines.Line2D at 0x1654d0baf48>,\n",
       "  <matplotlib.lines.Line2D at 0x1654d0cdb08>,\n",
       "  <matplotlib.lines.Line2D at 0x1654d0e2088>,\n",
       "  <matplotlib.lines.Line2D at 0x1654d0f3f48>,\n",
       "  <matplotlib.lines.Line2D at 0x1654d101b08>,\n",
       "  <matplotlib.lines.Line2D at 0x1654d118088>,\n",
       "  <matplotlib.lines.Line2D at 0x1654d129f48>,\n",
       "  <matplotlib.lines.Line2D at 0x1654d139b08>,\n",
       "  <matplotlib.lines.Line2D at 0x1654d14e088>,\n",
       "  <matplotlib.lines.Line2D at 0x1654d15ff48>,\n",
       "  <matplotlib.lines.Line2D at 0x1654d16eb08>,\n",
       "  <matplotlib.lines.Line2D at 0x1654d186088>,\n",
       "  <matplotlib.lines.Line2D at 0x1654d196f48>,\n",
       "  <matplotlib.lines.Line2D at 0x1654d1a6b08>,\n",
       "  <matplotlib.lines.Line2D at 0x1654d1bb088>,\n",
       "  <matplotlib.lines.Line2D at 0x1654d1cdf48>,\n",
       "  <matplotlib.lines.Line2D at 0x1654d1deb08>,\n",
       "  <matplotlib.lines.Line2D at 0x1654d1f3088>,\n",
       "  <matplotlib.lines.Line2D at 0x1654d202f48>,\n",
       "  <matplotlib.lines.Line2D at 0x1654d214b08>,\n",
       "  <matplotlib.lines.Line2D at 0x1654d229088>],\n",
       " 'means': []}"
      ]
     },
     "execution_count": 13,
     "metadata": {},
     "output_type": "execute_result"
    },
    {
     "data": {
      "image/png": "[encoded data removed]",
      "text/plain": [
       "<Figure size 432x288 with 1 Axes>"
      ]
     },
     "metadata": {
      "needs_background": "light"
     },
     "output_type": "display_data"
    }
   ],
   "source": [
    "plt.boxplot(data)"
   ]
  },
  {
   "cell_type": "code",
   "execution_count": 14,
   "metadata": {},
   "outputs": [],
   "source": [
    "# import necessary modules\n",
    "from sklearn import preprocessing"
   ]
  },
  {
   "cell_type": "code",
   "execution_count": 15,
   "metadata": {},
   "outputs": [],
   "source": [
    "norm=preprocessing.normalize(data)"
   ]
  },
  {
   "cell_type": "code",
   "execution_count": 17,
   "metadata": {},
   "outputs": [
    {
     "data": {
      "text/plain": [
       "array([[0.04835103, 0.99883041],\n",
       "       [0.04077067, 0.99916853],\n",
       "       [0.04680579, 0.99890401],\n",
       "       [0.03986191, 0.9992052 ],\n",
       "       [0.04323439, 0.99906496],\n",
       "       [0.05446449, 0.99851571],\n",
       "       [0.03362153, 0.99943464],\n",
       "       [0.04206799, 0.99911475],\n",
       "       [0.04993762, 0.99875234],\n",
       "       [0.03944297, 0.99922182],\n",
       "       [0.03764771, 0.99929107],\n",
       "       [0.03515414, 0.9993819 ],\n",
       "       [0.02785179, 0.99961206],\n",
       "       [0.07408159, 0.99725218],\n",
       "       [0.06022108, 0.99818506],\n",
       "       [0.09828722, 0.99515809],\n",
       "       [0.10310607, 0.99467037],\n",
       "       [0.03379022, 0.99942895],\n",
       "       [0.04056065, 0.99917708],\n",
       "       [0.05090167, 0.99870367],\n",
       "       [0.04835103, 0.99883041],\n",
       "       [0.05975697, 0.99821296],\n",
       "       [0.05405619, 0.9985379 ],\n",
       "       [0.14742783, 0.98907282],\n",
       "       [0.14315312, 0.98970055],\n",
       "       [0.06798394, 0.99768642],\n",
       "       [0.23337295, 0.9723873 ],\n",
       "       [0.05909653, 0.99825227],\n",
       "       [0.09561258, 0.99541862],\n",
       "       [0.17437044, 0.98468013],\n",
       "       [0.05298669, 0.99859522],\n",
       "       [0.05717129, 0.99836438],\n",
       "       [0.03898134, 0.99923994],\n",
       "       [0.08361422, 0.9964982 ]])"
      ]
     },
     "execution_count": 17,
     "metadata": {},
     "output_type": "execute_result"
    }
   ],
   "source": [
    "norm"
   ]
  },
  {
   "cell_type": "code",
   "execution_count": 19,
   "metadata": {},
   "outputs": [],
   "source": [
    "x= data.iloc[:, :-1].values  \n",
    "y= data.iloc[:, 1].values"
   ]
  },
  {
   "cell_type": "code",
   "execution_count": 21,
   "metadata": {},
   "outputs": [
    {
     "data": {
      "text/plain": [
       "array([[7.6],\n",
       "       [7.1],\n",
       "       [8.2],\n",
       "       [7.5],\n",
       "       [7.4],\n",
       "       [7.8],\n",
       "       [7.3],\n",
       "       [8. ],\n",
       "       [7.1],\n",
       "       [7.5],\n",
       "       [8.1],\n",
       "       [7. ],\n",
       "       [7.3],\n",
       "       [7.8],\n",
       "       [7.3],\n",
       "       [8. ],\n",
       "       [8.5],\n",
       "       [7.1],\n",
       "       [8.2],\n",
       "       [7.9],\n",
       "       [7.6],\n",
       "       [8.8],\n",
       "       [7.2],\n",
       "       [7.9],\n",
       "       [8.1],\n",
       "       [7.7],\n",
       "       [8.4],\n",
       "       [7.4],\n",
       "       [7.3],\n",
       "       [8.5],\n",
       "       [7.8],\n",
       "       [6.7],\n",
       "       [7.1],\n",
       "       [7.3]])"
      ]
     },
     "execution_count": 21,
     "metadata": {},
     "output_type": "execute_result"
    }
   ],
   "source": [
    "x"
   ]
  },
  {
   "cell_type": "code",
   "execution_count": 23,
   "metadata": {},
   "outputs": [
    {
     "data": {
      "text/plain": [
       "array([157, 174, 175, 188, 171, 143, 217, 190, 142, 190, 215, 199, 262,\n",
       "       105, 121,  81,  82, 210, 202, 155, 157, 147, 133,  53,  56, 113,\n",
       "        35, 125,  76,  48, 147, 117, 182,  87], dtype=int64)"
      ]
     },
     "execution_count": 23,
     "metadata": {},
     "output_type": "execute_result"
    }
   ],
   "source": [
    "y"
   ]
  },
  {
   "cell_type": "code",
   "execution_count": 25,
   "metadata": {},
   "outputs": [],
   "source": [
    "from sklearn.model_selection import train_test_split  \n",
    "x_train, x_test, y_train, y_test= train_test_split(x, y, test_size= 0.1, random_state=0)\n"
   ]
  },
  {
   "cell_type": "code",
   "execution_count": 27,
   "metadata": {},
   "outputs": [],
   "source": [
    "from sklearn.linear_model import SGDRegressor\n",
    "from sklearn.pipeline import make_pipeline\n",
    "from sklearn.preprocessing import StandardScaler"
   ]
  },
  {
   "cell_type": "code",
   "execution_count": 29,
   "metadata": {},
   "outputs": [],
   "source": [
    "reg = make_pipeline(StandardScaler(),\n",
    "                 SGDRegressor(max_iter=10000, tol=1e-3))\n"
   ]
  },
  {
   "cell_type": "code",
   "execution_count": 30,
   "metadata": {},
   "outputs": [
    {
     "data": {
      "text/plain": [
       "Pipeline(memory=None,\n",
       "         steps=[('standardscaler',\n",
       "                 StandardScaler(copy=True, with_mean=True, with_std=True)),\n",
       "                ('sgdregressor',\n",
       "                 SGDRegressor(alpha=0.0001, average=False, early_stopping=False,\n",
       "                              epsilon=0.1, eta0=0.01, fit_intercept=True,\n",
       "                              l1_ratio=0.15, learning_rate='invscaling',\n",
       "                              loss='squared_loss', max_iter=10000,\n",
       "                              n_iter_no_change=5, penalty='l2', power_t=0.25,\n",
       "                              random_state=None, shuffle=True, tol=0.001,\n",
       "                              validation_fraction=0.1, verbose=0,\n",
       "                              warm_start=False))],\n",
       "         verbose=False)"
      ]
     },
     "execution_count": 30,
     "metadata": {},
     "output_type": "execute_result"
    }
   ],
   "source": [
    "reg.fit(x_train,y_train)"
   ]
  },
  {
   "cell_type": "code",
   "execution_count": 31,
   "metadata": {},
   "outputs": [],
   "source": [
    "redicted = reg.predict(x_test)"
   ]
  },
  {
   "cell_type": "code",
   "execution_count": 33,
   "metadata": {},
   "outputs": [
    {
     "data": {
      "text/plain": [
       "array([160.99892978, 142.40457566, 139.30551664, 157.89987076])"
      ]
     },
     "execution_count": 33,
     "metadata": {},
     "output_type": "execute_result"
    }
   ],
   "source": [
    "redicted"
   ]
  },
  {
   "cell_type": "code",
   "execution_count": 35,
   "metadata": {},
   "outputs": [
    {
     "name": "stdout",
     "output_type": "stream",
     "text": [
      "Train Mean absolute error(MAE): 46.57\n",
      "Test Mean absolute error(MAE): 32.75\n"
     ]
    }
   ],
   "source": [
    "train_y_hat = reg.predict(x_train)\n",
    "print(\"Train Mean absolute error(MAE): %.2f\" % np.mean(np.absolute(train_y_hat - y_train)))\n",
    "test_y_hat = reg.predict(x_test)\n",
    "print(\"Test Mean absolute error(MAE): %.2f\" % np.mean(np.absolute(test_y_hat - y_test)))\n"
   ]
  },
  {
   "cell_type": "code",
   "execution_count": 37,
   "metadata": {},
   "outputs": [
    {
     "name": "stdout",
     "output_type": "stream",
     "text": [
      "Train Residual sum of squares (MSE): 2878.77\n",
      "Test Residual sum of squares (MSE): 1265.88\n"
     ]
    }
   ],
   "source": [
    "print(\"Train Residual sum of squares (MSE): %.2f\" % np.mean((train_y_hat - y_train) ** 2))\n",
    "print(\"Test Residual sum of squares (MSE): %.2f\" % np.mean((test_y_hat - y_test) ** 2))"
   ]
  },
  {
   "cell_type": "code",
   "execution_count": 39,
   "metadata": {},
   "outputs": [
    {
     "name": "stdout",
     "output_type": "stream",
     "text": [
      "Train Mean Square Error (RMSE): 53.65\n",
      "Test Mean Square Error (RMSE): 35.58\n"
     ]
    }
   ],
   "source": [
    "print(\"Train Mean Square Error (RMSE): %.2f\" % np.sqrt(np.mean((train_y_hat - y_train) ** 2)))\n",
    "print(\"Test Mean Square Error (RMSE): %.2f\" % np.sqrt(np.mean((test_y_hat - y_test) ** 2)))"
   ]
  },
  {
   "cell_type": "code",
   "execution_count": null,
   "metadata": {},
   "outputs": [],
   "source": []
  }
 ],
 "metadata": {
  "kernelspec": {
   "display_name": "Python 3",
   "language": "python",
   "name": "python3"
  },
  "language_info": {
   "codemirror_mode": {
    "name": "ipython",
    "version": 3
   },
   "file_extension": ".py",
   "mimetype": "text/x-python",
   "name": "python",
   "nbconvert_exporter": "python",
   "pygments_lexer": "ipython3",
   "version": "3.7.6"
  }
 },
 "nbformat": 4,
 "nbformat_minor": 4
}
